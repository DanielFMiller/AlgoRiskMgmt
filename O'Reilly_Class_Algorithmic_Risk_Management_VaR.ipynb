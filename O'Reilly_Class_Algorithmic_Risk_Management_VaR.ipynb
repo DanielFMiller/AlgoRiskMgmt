{
  "nbformat": 4,
  "nbformat_minor": 0,
  "metadata": {
    "colab": {
      "name": "O'Reilly Class: Algorithmic Risk Management - VaR.ipynb",
      "version": "0.3.2",
      "provenance": [],
      "include_colab_link": true
    },
    "kernelspec": {
      "name": "python3",
      "display_name": "Python 3"
    }
  },
  "cells": [
    {
      "cell_type": "markdown",
      "metadata": {
        "id": "view-in-github",
        "colab_type": "text"
      },
      "source": [
        "<a href=\"https://colab.research.google.com/github/DanielFMiller/AlgoRiskMgmt/blob/master/O'Reilly_Class_Algorithmic_Risk_Management_VaR.ipynb\" target=\"_parent\"><img src=\"https://colab.research.google.com/assets/colab-badge.svg\" alt=\"Open In Colab\"/></a>"
      ]
    },
    {
      "cell_type": "markdown",
      "metadata": {
        "id": "yZPwlm6xEoJk",
        "colab_type": "text"
      },
      "source": [
        "# Import Libraries"
      ]
    },
    {
      "cell_type": "code",
      "metadata": {
        "id": "iW2AD3Uck6Mc",
        "colab_type": "code",
        "colab": {}
      },
      "source": [
        "import scipy.stats as scs\n",
        "import numpy as np\n",
        "import numpy.random as npr\n",
        "import pandas_datareader.data as pdr\n",
        "import fix_yahoo_finance as yf\n",
        "yf.pdr_override()\n",
        "import matplotlib.pyplot as plt\n",
        "plt.style.use('seaborn')\n",
        "from datetime import datetime"
      ],
      "execution_count": 0,
      "outputs": []
    },
    {
      "cell_type": "code",
      "metadata": {
        "id": "S5eIkqAgkorc",
        "colab_type": "code",
        "outputId": "bb480220-7c71-4782-c0c4-56e2052fe799",
        "colab": {
          "base_uri": "https://localhost:8080/",
          "height": 51
        }
      },
      "source": [
        "start = datetime(2017, 7, 16)\n",
        "end = datetime(2019, 8, 22)\n",
        "\n",
        "market = pdr.get_data_yahoo('SPY', start, end)\n",
        "stock = pdr.get_data_yahoo('AAPL', start, end)\n",
        "\n",
        "stock_returns = stock['Adj Close'].pct_change(1)\n",
        "stock_returns = stock_returns.dropna()\n"
      ],
      "execution_count": 0,
      "outputs": [
        {
          "output_type": "stream",
          "text": [
            "[*********************100%***********************]  1 of 1 downloaded\n",
            "[*********************100%***********************]  1 of 1 downloaded\n"
          ],
          "name": "stdout"
        }
      ]
    },
    {
      "cell_type": "markdown",
      "metadata": {
        "id": "lJ45esYCAL94",
        "colab_type": "text"
      },
      "source": [
        "# Parametric Value at Risk (VaR)"
      ]
    },
    {
      "cell_type": "code",
      "metadata": {
        "id": "jaGcgvn3p6i3",
        "colab_type": "code",
        "outputId": "9f71f06c-5b9b-4fc4-f8e9-ce49dc5f9a8e",
        "colab": {
          "base_uri": "https://localhost:8080/",
          "height": 51
        }
      },
      "source": [
        "mu = stock_returns.mean()\n",
        "sigma = stock_returns.std()\n",
        "confidence = 99\n",
        "zscore = scs.norm.ppf(confidence/100)\n",
        "shares = 100\n",
        "value = shares * stock['Adj Close'][-1]\n",
        "days = 5\n",
        "nday_return = (mu + 1)**days - 1\n",
        "nday_volatility = sigma * np.sqrt(days)\n",
        "parametric_var = nday_return*value - (zscore * nday_volatility * value)\n",
        "print(\"The {0} day Parametric VaR at {1}% confidence level is ${2}\".format(days, confidence, round(parametric_var, 2)))\n",
        "print(\"Currently, the value of your stock is ${0} with a {1} day expected return of ${2}\".format(round(value, 2), days, round(nday_return*value)))"
      ],
      "execution_count": 0,
      "outputs": [
        {
          "output_type": "stream",
          "text": [
            "The 5 day Parametric VaR at 99% confidence level is $-1781.91\n",
            "Currently, the value of your stock is $21264.0 with a 5 day expected return of $93.0\n"
          ],
          "name": "stdout"
        }
      ]
    },
    {
      "cell_type": "markdown",
      "metadata": {
        "id": "_S0aQNpeBD8O",
        "colab_type": "text"
      },
      "source": [
        "# Non-parametric VaR"
      ]
    },
    {
      "cell_type": "code",
      "metadata": {
        "id": "PSDvUZPeBSDC",
        "colab_type": "code",
        "outputId": "1b89fc6a-5a2e-4ddf-b085-0b6036b7efaa",
        "colab": {
          "base_uri": "https://localhost:8080/",
          "height": 546
        }
      },
      "source": [
        "plt.hist(stock_returns*100), plt.title('Distribution of Stock (AAPL) Daily Returns'), plt.xlabel('Daily Percentage Returns'), plt.ylabel('Frequency'), plt.show()\n",
        "print(\"Descriptive stastics of Apple stock's percentage returns:\\n{}\".format(stock_returns.describe()))"
      ],
      "execution_count": 0,
      "outputs": [
        {
          "output_type": "display_data",
          "data": {
            "image/png": "[encoded data removed]",
            "text/plain": [
              "<Figure size 576x396 with 1 Axes>"
            ]
          },
          "metadata": {
            "tags": []
          }
        },
        {
          "output_type": "stream",
          "text": [
            "Descriptive stastics of Apple stock's percentage returns:\n",
            "count    528.000000\n",
            "mean       0.000876\n",
            "std        0.016953\n",
            "min       -0.099607\n",
            "25%       -0.006677\n",
            "50%        0.000782\n",
            "75%        0.009666\n",
            "max        0.070421\n",
            "Name: Adj Close, dtype: float64\n"
          ],
          "name": "stdout"
        }
      ]
    },
    {
      "cell_type": "code",
      "metadata": {
        "id": "SttN9RhUo93B",
        "colab_type": "code",
        "outputId": "9e8b04de-54fb-4acd-f97a-2ae202bc5629",
        "colab": {
          "base_uri": "https://localhost:8080/",
          "height": 153
        }
      },
      "source": [
        "sorted_returns = stock_returns.sort_values()\n",
        "sorted_returns.head(6)\n"
      ],
      "execution_count": 0,
      "outputs": [
        {
          "output_type": "execute_result",
          "data": {
            "text/plain": [
              "Date\n",
              "2019-01-03   -0.099607\n",
              "2018-11-02   -0.066331\n",
              "2019-05-13   -0.058119\n",
              "2019-08-05   -0.052348\n",
              "2018-11-12   -0.050374\n",
              "2018-11-20   -0.047778\n",
              "Name: Adj Close, dtype: float64"
            ]
          },
          "metadata": {
            "tags": []
          },
          "execution_count": 13
        }
      ]
    },
    {
      "cell_type": "code",
      "metadata": {
        "id": "Ldax97E4u6tK",
        "colab_type": "code",
        "outputId": "b3ddd366-fec0-473d-b653-ee6eb9ab14d7",
        "colab": {
          "base_uri": "https://localhost:8080/",
          "height": 51
        }
      },
      "source": [
        "confidence = 99\n",
        "percentile = 100 - confidence\n",
        "frequency = int(sorted_returns.count()*percentile/100)\n",
        "var = scs.scoreatpercentile(sorted_returns, percentile)\n",
        "nonparametric_var = var*value\n",
        "expected_shortfall = sorted_returns[:frequency].mean()\n",
        "print(\"The daily Non-parmeteric VaR at {0}% confidence level is {1}% implying a dollar loss of ${2} based on the current value of ${3}\".format(confidence, round(var*100,2), round(nonparametric_var, 2), round(value, 2)))\n",
        "print(\"The Expected Shortfall is {0}% with a dollar loss of ${1}\".format(round(expected_shortfall*100,2), round(expected_shortfall*value)))"
      ],
      "execution_count": 0,
      "outputs": [
        {
          "output_type": "stream",
          "text": [
            "The daily Non-parmeteric VaR at 99% confidence level is -4.74% implying a dollar loss of $-1007.61 based on the current value of $21264.0\n",
            "The Expected Shortfall is -6.54% with a dollar loss of $-1390.0\n"
          ],
          "name": "stdout"
        }
      ]
    },
    {
      "cell_type": "markdown",
      "metadata": {
        "id": "CBQLYaOe66L8",
        "colab_type": "text"
      },
      "source": [
        "# Monte Carlo VaR"
      ]
    },
    {
      "cell_type": "code",
      "metadata": {
        "id": "UXHWmDLX3yPi",
        "colab_type": "code",
        "outputId": "70a1f959-6920-4deb-8a4e-814d0f14e669",
        "colab": {
          "base_uri": "https://localhost:8080/",
          "height": 376
        }
      },
      "source": [
        "npr.seed(101)\n",
        "sample = 500\n",
        "simulated_returns = npr.normal(mu, sigma, sample)\n",
        "plt.hist(simulated_returns*100), plt.title('Distribution of simulated (AAPL) Daily Returns'), plt.xlabel('Daily Percentage Returns'), plt.ylabel('Frequency'), plt.show();"
      ],
      "execution_count": 0,
      "outputs": [
        {
          "output_type": "display_data",
          "data": {
            "image/png": "[encoded data removed]",
            "text/plain": [
              "<Figure size 576x396 with 1 Axes>"
            ]
          },
          "metadata": {
            "tags": []
          }
        }
      ]
    },
    {
      "cell_type": "code",
      "metadata": {
        "id": "hRV4tLSjALf2",
        "colab_type": "code",
        "outputId": "f429b351-f0c6-4996-c3af-b5d7e67a0f08",
        "colab": {
          "base_uri": "https://localhost:8080/",
          "height": 34
        }
      },
      "source": [
        "sorted_simulated_returns = np.sort(simulated_returns)\n",
        "confidence = 99\n",
        "percentile = 100-confidence\n",
        "var = scs.scoreatpercentile(sorted_simulated_returns, percentile)\n",
        "nonparametric_var = var*value\n",
        "print(\"The daily Non-parmeteric VaR at {0}% confidence level is {1}% implying a dollar loss of ${2} based on the current value of ${3}\".format(confidence, round(var*100,2), round(nonparametric_var, 2), round(value, 2)))"
      ],
      "execution_count": 0,
      "outputs": [
        {
          "output_type": "stream",
          "text": [
            "The daily Non-parmeteric VaR at 99% confidence level is -3.66% implying a dollar loss of $-778.01 based on the current value of $21264.0\n"
          ],
          "name": "stdout"
        }
      ]
    }
  ]
}