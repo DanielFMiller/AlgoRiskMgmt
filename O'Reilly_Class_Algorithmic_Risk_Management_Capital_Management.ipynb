{
  "nbformat": 4,
  "nbformat_minor": 0,
  "metadata": {
    "colab": {
      "name": "O'Reilly Class: Algorithmic Risk Management - Capital Management.ipynb",
      "version": "0.3.2",
      "provenance": [],
      "include_colab_link": true
    },
    "kernelspec": {
      "name": "python3",
      "display_name": "Python 3"
    }
  },
  "cells": [
    {
      "cell_type": "markdown",
      "metadata": {
        "id": "view-in-github",
        "colab_type": "text"
      },
      "source": [
        "<a href=\"https://colab.research.google.com/github/DanielFMiller/AlgoRiskMgmt/blob/master/O'Reilly_Class_Algorithmic_Risk_Management_Capital_Management.ipynb\" target=\"_parent\"><img src=\"https://colab.research.google.com/assets/colab-badge.svg\" alt=\"Open In Colab\"/></a>"
      ]
    },
    {
      "cell_type": "markdown",
      "metadata": {
        "id": "2T_Vm5wHn6T9",
        "colab_type": "text"
      },
      "source": [
        "***Code in this notebook is based on Chapter 13, \"Python for Finance, 2nd Edition\" by Yves Hilpisch***"
      ]
    },
    {
      "cell_type": "code",
      "metadata": {
        "id": "ySzFgaFMlY8u",
        "colab_type": "code",
        "colab": {}
      },
      "source": [
        "import scipy.stats as scs\n",
        "import numpy as np\n",
        "import numpy.random as npr\n",
        "import pandas_datareader.data as pdr\n",
        "import fix_yahoo_finance as yf\n",
        "yf.pdr_override()\n",
        "import matplotlib.pyplot as plt\n",
        "plt.style.use('seaborn')\n",
        "from datetime import datetime"
      ],
      "execution_count": 0,
      "outputs": []
    },
    {
      "cell_type": "markdown",
      "metadata": {
        "id": "f3AztsYrJfA_",
        "colab_type": "text"
      },
      "source": [
        "# Modern Portfolio Theory Tools"
      ]
    },
    {
      "cell_type": "code",
      "metadata": {
        "id": "Oy8dkHtWpzoL",
        "colab_type": "code",
        "outputId": "5cbe518c-6647-4e5a-ec7e-df8d57f97202",
        "colab": {
          "base_uri": "https://localhost:8080/",
          "height": 34
        }
      },
      "source": [
        "start = datetime(2017, 7, 16)\n",
        "end = datetime(2019, 8, 22)\n",
        "symbols = ['AAPL', 'MSFT', 'SPY', 'GLD']\n",
        "data = pdr.get_data_yahoo(symbols, start, end)"
      ],
      "execution_count": 0,
      "outputs": [
        {
          "output_type": "stream",
          "text": [
            "[*********************100%***********************]  4 of 4 downloaded\n"
          ],
          "name": "stdout"
        }
      ]
    },
    {
      "cell_type": "code",
      "metadata": {
        "id": "Abf_s1zZrnGi",
        "colab_type": "code",
        "outputId": "faec9bda-da2a-40ad-ac6d-f5a4faeb9e09",
        "colab": {
          "base_uri": "https://localhost:8080/",
          "height": 498
        }
      },
      "source": [
        "rets = np.log(data['Adj Close']/data['Adj Close'].shift(1))\n",
        "rets.hist(bins=40, figsize = (10, 8));"
      ],
      "execution_count": 0,
      "outputs": [
        {
          "output_type": "display_data",
          "data": {
            "image/png": "[encoded data removed]",
            "text/plain": [
              "<Figure size 720x576 with 4 Axes>"
            ]
          },
          "metadata": {
            "tags": []
          }
        }
      ]
    },
    {
      "cell_type": "code",
      "metadata": {
        "id": "L01hgQOs60FF",
        "colab_type": "code",
        "outputId": "6b0caf45-b0dd-4b13-aa41-dd5987f5b689",
        "colab": {
          "base_uri": "https://localhost:8080/",
          "height": 102
        }
      },
      "source": [
        "rets.mean()* 252"
      ],
      "execution_count": 0,
      "outputs": [
        {
          "output_type": "execute_result",
          "data": {
            "text/plain": [
              "AAPL    0.184336\n",
              "GLD     0.090436\n",
              "MSFT    0.322869\n",
              "SPY     0.101653\n",
              "dtype: float64"
            ]
          },
          "metadata": {
            "tags": []
          },
          "execution_count": 33
        }
      ]
    },
    {
      "cell_type": "code",
      "metadata": {
        "id": "tkhCbPqa7FPF",
        "colab_type": "code",
        "outputId": "27e0d909-deb1-4225-c3d0-db0cf78c88b3",
        "colab": {
          "base_uri": "https://localhost:8080/",
          "height": 173
        }
      },
      "source": [
        "rets.cov() * 252"
      ],
      "execution_count": 0,
      "outputs": [
        {
          "output_type": "execute_result",
          "data": {
            "text/html": [
              "<div>\n",
              "<style scoped>\n",
              "    .dataframe tbody tr th:only-of-type {\n",
              "        vertical-align: middle;\n",
              "    }\n",
              "\n",
              "    .dataframe tbody tr th {\n",
              "        vertical-align: top;\n",
              "    }\n",
              "\n",
              "    .dataframe thead th {\n",
              "        text-align: right;\n",
              "    }\n",
              "</style>\n",
              "<table border=\"1\" class=\"dataframe\">\n",
              "  <thead>\n",
              "    <tr style=\"text-align: right;\">\n",
              "      <th></th>\n",
              "      <th>AAPL</th>\n",
              "      <th>GLD</th>\n",
              "      <th>MSFT</th>\n",
              "      <th>SPY</th>\n",
              "    </tr>\n",
              "  </thead>\n",
              "  <tbody>\n",
              "    <tr>\n",
              "      <th>AAPL</th>\n",
              "      <td>0.072847</td>\n",
              "      <td>-0.002867</td>\n",
              "      <td>0.042522</td>\n",
              "      <td>0.027864</td>\n",
              "    </tr>\n",
              "    <tr>\n",
              "      <th>GLD</th>\n",
              "      <td>-0.002867</td>\n",
              "      <td>0.010767</td>\n",
              "      <td>-0.001641</td>\n",
              "      <td>-0.001471</td>\n",
              "    </tr>\n",
              "    <tr>\n",
              "      <th>MSFT</th>\n",
              "      <td>0.042522</td>\n",
              "      <td>-0.001641</td>\n",
              "      <td>0.057983</td>\n",
              "      <td>0.028630</td>\n",
              "    </tr>\n",
              "    <tr>\n",
              "      <th>SPY</th>\n",
              "      <td>0.027864</td>\n",
              "      <td>-0.001471</td>\n",
              "      <td>0.028630</td>\n",
              "      <td>0.020475</td>\n",
              "    </tr>\n",
              "  </tbody>\n",
              "</table>\n",
              "</div>"
            ],
            "text/plain": [
              "          AAPL       GLD      MSFT       SPY\n",
              "AAPL  0.072847 -0.002867  0.042522  0.027864\n",
              "GLD  -0.002867  0.010767 -0.001641 -0.001471\n",
              "MSFT  0.042522 -0.001641  0.057983  0.028630\n",
              "SPY   0.027864 -0.001471  0.028630  0.020475"
            ]
          },
          "metadata": {
            "tags": []
          },
          "execution_count": 34
        }
      ]
    },
    {
      "cell_type": "code",
      "metadata": {
        "id": "gx2MY6OVDxk_",
        "colab_type": "code",
        "outputId": "7a1c3f48-1799-45cb-8517-b8d0a5538054",
        "colab": {
          "base_uri": "https://localhost:8080/",
          "height": 51
        }
      },
      "source": [
        "noa = len(symbols)\n",
        "weights = npr.random(noa)\n",
        "weights /= np.sum(weights)\n",
        "print(weights)\n",
        "weights.sum()"
      ],
      "execution_count": 0,
      "outputs": [
        {
          "output_type": "stream",
          "text": [
            "[0.27433413 0.00261547 0.35053929 0.37251111]\n"
          ],
          "name": "stdout"
        },
        {
          "output_type": "execute_result",
          "data": {
            "text/plain": [
              "1.0"
            ]
          },
          "metadata": {
            "tags": []
          },
          "execution_count": 42
        }
      ]
    },
    {
      "cell_type": "code",
      "metadata": {
        "id": "piO4DF0IGi4o",
        "colab_type": "code",
        "colab": {}
      },
      "source": [
        "np.sum(rets.mean() * weights) *252\n",
        "variance = np.dot(weights.T, np.dot(rets.cov()*252, weights))\n",
        "np.sqrt(variance)"
      ],
      "execution_count": 0,
      "outputs": []
    },
    {
      "cell_type": "markdown",
      "metadata": {
        "id": "q4SbTRf8Jmcf",
        "colab_type": "text"
      },
      "source": [
        "# Kelly Criterion"
      ]
    },
    {
      "cell_type": "code",
      "metadata": {
        "id": "Y6inAw2mJq88",
        "colab_type": "code",
        "colab": {}
      },
      "source": [
        "np.random.seed(101)\n",
        "p = 0.55\n",
        "f = p - (1-p)\n",
        "I = 50\n",
        "n = 1000\n",
        "\n",
        "def run_simulation (f):\n",
        "  c = np.zeros((n, I))\n",
        "  c[0] = 100\n",
        "  for i in range(I):\n",
        "      for t in range(1, n):\n",
        "        o = np.random.binomial(1, p)\n",
        "        if o > 0:\n",
        "          c[t, i] = (1 + f) * c[t-1, i]\n",
        "        else:\n",
        "          c[t, i] = (1 - f) * c[t-1, i]\n",
        "  return c\n",
        "   "
      ],
      "execution_count": 0,
      "outputs": []
    },
    {
      "cell_type": "code",
      "metadata": {
        "id": "aTi10odWLtt7",
        "colab_type": "code",
        "outputId": "1495ed43-0341-4647-ceea-bb97f5161c59",
        "colab": {
          "base_uri": "https://localhost:8080/",
          "height": 374
        }
      },
      "source": [
        "c_1 = run_simulation(f)\n",
        "c_2 = run_simulation(0.05)\n",
        "c_3 = run_simulation(0.25)\n",
        "c_4 = run_simulation(0.5)\n",
        "\n",
        "plt.figure(figsize=(10, 6))         \n",
        "plt.plot(c_1.mean(axis=1), 'r', label='$f^*=0.1$')         \n",
        "plt.plot(c_2.mean(axis=1), 'b', label='$f=0.05$')         \n",
        "plt.plot(c_3.mean(axis=1), 'y', label='$f=0.25$')         \n",
        "plt.plot(c_4.mean(axis=1), 'm', label='$f=0.5$')         \n",
        "plt.legend(loc=0);"
      ],
      "execution_count": 0,
      "outputs": [
        {
          "output_type": "display_data",
          "data": {
            "image/png": "[encoded data removed]",
            "text/plain": [
              "<Figure size 720x432 with 1 Axes>"
            ]
          },
          "metadata": {
            "tags": []
          }
        }
      ]
    },
    {
      "cell_type": "code",
      "metadata": {
        "id": "bwSRrGdHP6Eq",
        "colab_type": "code",
        "colab": {}
      },
      "source": [
        ""
      ],
      "execution_count": 0,
      "outputs": []
    }
  ]
}